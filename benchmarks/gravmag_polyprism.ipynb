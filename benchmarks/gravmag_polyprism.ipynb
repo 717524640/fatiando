{
 "metadata": {
  "name": "",
  "signature": "sha256:442cac9269ca922b2702c6b47023536fadb479eab3ce7694181e965ef13475de"
 },
 "nbformat": 3,
 "nbformat_minor": 0,
 "worksheets": [
  {
   "cells": [
    {
     "cell_type": "code",
     "collapsed": false,
     "input": [
      "%matplotlib inline\n",
      "import numpy as np\n",
      "from fatiando import gridder, utils\n",
      "from fatiando.mesher import PolygonalPrism\n",
      "from fatiando.gravmag import polyprism"
     ],
     "language": "python",
     "metadata": {},
     "outputs": [],
     "prompt_number": 1
    },
    {
     "cell_type": "code",
     "collapsed": false,
     "input": [
      "vertices = utils.circular_points([-3000, 3000, -3000, 3000], 300)[::-1]\n",
      "props = {'density': 1000, 'magnetization': utils.ang2vec(2, 25, -10)}\n",
      "model = [PolygonalPrism(vertices, 0, 2000, props)]\n",
      "inc, dec = -30, 20\n",
      "shape = (100, 100)\n",
      "x, y, z = gridder.regular([-5000, 5000, -5000, 5000], shape, z=-1)"
     ],
     "language": "python",
     "metadata": {},
     "outputs": [],
     "prompt_number": 2
    },
    {
     "cell_type": "code",
     "collapsed": false,
     "input": [
      "%timeit polyprism.gz(x, y, z, model)"
     ],
     "language": "python",
     "metadata": {},
     "outputs": [
      {
       "output_type": "stream",
       "stream": "stdout",
       "text": [
        "1 loops, best of 3: 1.58 s per loop\n"
       ]
      }
     ],
     "prompt_number": 3
    },
    {
     "cell_type": "code",
     "collapsed": false,
     "input": [
      "%timeit polyprism.gzz(x, y, z, model)"
     ],
     "language": "python",
     "metadata": {},
     "outputs": [
      {
       "output_type": "stream",
       "stream": "stdout",
       "text": [
        "1 loops, best of 3: 841 ms per loop\n"
       ]
      }
     ],
     "prompt_number": 4
    },
    {
     "cell_type": "code",
     "collapsed": false,
     "input": [
      "%timeit polyprism.tf(x, y, z, model, inc, dec)"
     ],
     "language": "python",
     "metadata": {},
     "outputs": [
      {
       "output_type": "stream",
       "stream": "stdout",
       "text": [
        "1 loops, best of 3: 7.97 s per loop\n"
       ]
      }
     ],
     "prompt_number": 5
    }
   ],
   "metadata": {}
  }
 ]
}